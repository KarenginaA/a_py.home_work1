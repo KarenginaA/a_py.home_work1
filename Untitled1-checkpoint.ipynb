{
 "cells": [
  {
   "cell_type": "markdown",
   "id": "dc8bb420",
   "metadata": {},
   "source": [
    "## Условие 1: \n",
    "## Оформляйте ноутбук, используя эти советы:\n",
    "## Номер задачи - заголовок \n",
    "### Номер подзадачи - заголовок 3\n",
    "- Предоставленные наборы данных оформляйте, как код\n",
    "- Рекомендации для преподавателей по оценке задания:\n",
    "Смотреть, чтобы студент красиво оформлял ноутбук, использовал ячейки с текстом, указывал номера заданий"
   ]
  },
  {
   "cell_type": "code",
   "execution_count": null,
   "id": "d00bd62e",
   "metadata": {},
   "outputs": [],
   "source": []
  },
  {
   "cell_type": "markdown",
   "id": "7e8e8980",
   "metadata": {},
   "source": [
    "## Условие 2: \n",
    "### На складе лежат разные фрукты в разном количестве.Нужно написать функцию, которая на вход принимает любое количество названий фруктов и их количество, а возвращает общее количество фруктов на складе\n"
   ]
  },
  {
   "cell_type": "code",
   "execution_count": 49,
   "id": "a041780c",
   "metadata": {},
   "outputs": [
    {
     "name": "stdout",
     "output_type": "stream",
     "text": [
      "20\n",
      "30\n",
      "12\n"
     ]
    }
   ],
   "source": [
    "def total_fruits(**kwargs):\n",
    "    total = 0\n",
    "    for item in kwargs.values():\n",
    "        total += item\n",
    "    return total\n",
    "   \n",
    "print(total_fruits(banana=5, mango=7, apple=8))\n",
    "print(total_fruits(banana=5, mango=7, apple=8, oranges=10))\n",
    "print(total_fruits(banana=5, apricot=7))\n"
   ]
  },
  {
   "cell_type": "markdown",
   "id": "3e1d00bc",
   "metadata": {},
   "source": [
    "## Условие 3: \n",
    "### Дан список с затратами на рекламу. Но в данных есть ошибки, некоторые затраты имеют отрицательную величину. Удалите такие значения из списка и посчитайте суммарные затраты\n",
    "[100, 125, -90, 345, 655, -1, 0, 200]\n",
    "Используйте list comprehensions"
   ]
  },
  {
   "cell_type": "code",
   "execution_count": 53,
   "id": "d87c5222",
   "metadata": {},
   "outputs": [
    {
     "data": {
      "text/plain": [
       "1425"
      ]
     },
     "execution_count": 53,
     "metadata": {},
     "output_type": "execute_result"
    }
   ],
   "source": [
    "# 1 вариант\n",
    "sum(filter(lambda x: x >= 0, [100, 125, -90, 345, 655, -1, 0, 200]))"
   ]
  },
  {
   "cell_type": "code",
   "execution_count": 54,
   "id": "1ce67a82",
   "metadata": {},
   "outputs": [
    {
     "data": {
      "text/plain": [
       "1425"
      ]
     },
     "execution_count": 54,
     "metadata": {},
     "output_type": "execute_result"
    }
   ],
   "source": [
    "# 2 вариант\n",
    "sum([i for i in [100, 125, -90, 345, 655, -1, 0, 200] if i >= 0])"
   ]
  },
  {
   "cell_type": "code",
   "execution_count": 55,
   "id": "3ef0ae4a",
   "metadata": {},
   "outputs": [
    {
     "data": {
      "text/plain": [
       "1425"
      ]
     },
     "execution_count": 55,
     "metadata": {},
     "output_type": "execute_result"
    }
   ],
   "source": [
    "# 3 вариант \n",
    "import numpy as np \n",
    "\n",
    "np.array([100, 125, -90, 345, 655, -1, 0, 200]).clip(0).sum()"
   ]
  },
  {
   "cell_type": "markdown",
   "id": "185548db",
   "metadata": {},
   "source": []
  },
  {
   "cell_type": "markdown",
   "id": "d502c708",
   "metadata": {},
   "source": [
    "## Условие 4: \n",
    "### Даны два списка.\n",
    "- Дата покупки\n",
    "['2021-09-14', '2021-12-15', '2021-09-08', '2021-12-05', '2021-10-09', '2021-09-30', '2021-12-22', '2021-11-29', '2021-12-24', '2021-11-26', '2021-10-27', '2021-12-18', '2021-11-09', '2021-11-23', '2021-09-27', '2021-10-02', '2021-12-27', '2021-09-20', '2021-12-13', '2021-11-01', '2021-11-09', '2021-12-06', '2021-12-08', '2021-10-09', '2021-10-31', '2021-09-30', '2021-11-09', '2021-12-13', '2021-10-26', '2021-12-09']\n",
    "- Суммы покупок по датам\n",
    "[1270, 8413, 9028, 3703, 5739, 4095, 295, 4944, 5723, 3701, 4471, 651, 7037, 4274, 6275, 4988, 6930, 2971, 6592, 2004, 2822, 519, 3406, 2732, 5015, 2008, 316, 6333, 5700, 2887]\n",
    "### 4.1 Найдите, какая выручка у компании в ноябре\n",
    "Используйте list comprehensions"
   ]
  },
  {
   "cell_type": "code",
   "execution_count": 88,
   "id": "2711e44a",
   "metadata": {},
   "outputs": [],
   "source": [
    "# Дата покупки\n",
    "date_of_purchase = np.array(['2021-09-14', '2021-12-15', '2021-09-08', '2021-12-05', '2021-10-09', \n",
    "                 '2021-09-30', '2021-12-22', '2021-11-29', '2021-12-24', '2021-11-26', \n",
    "                 '2021-10-27', '2021-12-18', '2021-11-09', '2021-11-23', '2021-09-27', \n",
    "                 '2021-10-02', '2021-12-27', '2021-09-20', '2021-12-13', '2021-11-01', \n",
    "                 '2021-11-09', '2021-12-06', '2021-12-08', '2021-10-09', '2021-10-31', \n",
    "                 '2021-09-30', '2021-11-09', '2021-12-13', '2021-10-26', '2021-12-09'])\n",
    "\n",
    "# Суммы покупок по датам\n",
    "purchase_amounts = np.array([1270, 8413, 9028, 3703, 5739, 4095, 295, 4944, 5723, 3701, \n",
    "                             4471, 651, 7037, 4274, 6275, 4988, 6930, 2971, 6592, 2004, \n",
    "                             2822, 519, 3406, 2732, 5015, 2008, 316, 6333, 5700, 2887])\n",
    "\n"
   ]
  },
  {
   "cell_type": "code",
   "execution_count": 85,
   "id": "0a17a938",
   "metadata": {},
   "outputs": [
    {
     "name": "stdout",
     "output_type": "stream",
     "text": [
      "[4944, 3701, 7037, 4274, 2004, 2822, 316]\n",
      "Сумма покупок за Ноябрь: 25098\n"
     ]
    }
   ],
   "source": [
    "def november(data1: list, data2: list) -> list:\n",
    "    new_data = []\n",
    "    for i in range(len(data1)-1):\n",
    "        if '-11-' in data1[i]:\n",
    "            new_data.append(data2[i])\n",
    "    return new_data\n",
    "print(november(date_of_purchase,purchase_amounts))\n",
    "print(f'Сумма покупок за Ноябрь: {sum(november(date_of_purchase, purchase_amounts))}')"
   ]
  },
  {
   "cell_type": "code",
   "execution_count": 82,
   "id": "05a7c673",
   "metadata": {},
   "outputs": [
    {
     "name": "stdout",
     "output_type": "stream",
     "text": [
      "[4944, 3701, 7037, 4274, 2004, 2822, 316]\n",
      "Сумма покупок за Ноябрь: 25098\n"
     ]
    }
   ],
   "source": [
    "print([purchase_amounts[i] for i in range(0, len(date_of_purchase)-1) if \"-11-\" in date_of_purchase[i]])\n",
    "print(f'Сумма покупок за Ноябрь: {sum([purchase_amounts[i] for i in range(len(date_of_purchase)-1) if \"-11-\" in date_of_purchase[i]])}')       "
   ]
  },
  {
   "cell_type": "markdown",
   "id": "eaaf20d1",
   "metadata": {},
   "source": [
    "### 4.2 Найдите выручку компании в зависимости от месяца\n",
    "Для этого напишите функцию, которая на вход принимает список с датами и список с выручкой, а на выходе словарь, где ключи - это месяцы, а значения - это выручка.\n",
    "Используйте аннотирование типов."
   ]
  },
  {
   "cell_type": "code",
   "execution_count": 95,
   "id": "bb3185e7",
   "metadata": {},
   "outputs": [
    {
     "name": "stdout",
     "output_type": "stream",
     "text": [
      "{'09': 25647, '12': 45452, '10': 28645, '11': 25098}\n"
     ]
    }
   ],
   "source": [
    "def profits(data1: list, data2: list) -> dict:\n",
    "    profits = {}\n",
    "    for i in range(len(data1)):\n",
    "        if date_of_purchase[i].split('-')[1] in profits.keys():\n",
    "            profits[date_of_purchase[i].split('-')[1]] += purchase_amounts[i]\n",
    "        else:\n",
    "            profits[date_of_purchase[i].split('-')[1]] = purchase_amounts[i]\n",
    "    return profits\n",
    "\n",
    "print(profits(date_of_purchase, purchase_amounts))"
   ]
  }
 ],
 "metadata": {
  "kernelspec": {
   "display_name": "Python 3 (ipykernel)",
   "language": "python",
   "name": "python3"
  },
  "language_info": {
   "codemirror_mode": {
    "name": "ipython",
    "version": 3
   },
   "file_extension": ".py",
   "mimetype": "text/x-python",
   "name": "python",
   "nbconvert_exporter": "python",
   "pygments_lexer": "ipython3",
   "version": "3.11.3"
  }
 },
 "nbformat": 4,
 "nbformat_minor": 5
}
